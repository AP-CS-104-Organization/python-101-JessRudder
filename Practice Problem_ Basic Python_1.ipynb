{
 "cells": [
  {
   "cell_type": "code",
   "execution_count": 15,
   "metadata": {},
   "outputs": [
    {
     "name": "stdout",
     "output_type": "stream",
     "text": [
      "put coma seperated numbers1,2,3,4\n"
     ]
    }
   ],
   "source": [
    "values=input('put coma seperated numbers')\n"
   ]
  },
  {
   "cell_type": "code",
   "execution_count": 16,
   "metadata": {},
   "outputs": [
    {
     "data": {
      "text/plain": [
       "'1,2,3,4'"
      ]
     },
     "execution_count": 16,
     "metadata": {},
     "output_type": "execute_result"
    }
   ],
   "source": [
    "values"
   ]
  },
  {
   "cell_type": "code",
   "execution_count": 17,
   "metadata": {},
   "outputs": [
    {
     "data": {
      "text/plain": [
       "['1', '2', '3', '4']"
      ]
     },
     "execution_count": 17,
     "metadata": {},
     "output_type": "execute_result"
    }
   ],
   "source": [
    "values.split(',')"
   ]
  },
  {
   "cell_type": "code",
   "execution_count": 21,
   "metadata": {},
   "outputs": [
    {
     "name": "stdout",
     "output_type": "stream",
     "text": [
      "sum of above two num =  9\n"
     ]
    }
   ],
   "source": [
    "a=4\n",
    "b=5\n",
    "c=a+b\n",
    "print('sum of above two num = ',c)"
   ]
  },
  {
   "cell_type": "code",
   "execution_count": 23,
   "metadata": {},
   "outputs": [
    {
     "data": {
      "text/plain": [
       "['Red', 'Green', 'White', 'Black']"
      ]
     },
     "execution_count": 23,
     "metadata": {},
     "output_type": "execute_result"
    }
   ],
   "source": [
    "col = [\"Red\",\"Green\",\"White\" ,\"Black\"]\n",
    "col"
   ]
  },
  {
   "cell_type": "code",
   "execution_count": 30,
   "metadata": {},
   "outputs": [
    {
     "data": {
      "text/plain": [
       "'Red'"
      ]
     },
     "execution_count": 30,
     "metadata": {},
     "output_type": "execute_result"
    }
   ],
   "source": [
    "col[0]"
   ]
  },
  {
   "cell_type": "code",
   "execution_count": 31,
   "metadata": {},
   "outputs": [
    {
     "data": {
      "text/plain": [
       "'Black'"
      ]
     },
     "execution_count": 31,
     "metadata": {},
     "output_type": "execute_result"
    }
   ],
   "source": [
    "col[-1]"
   ]
  },
  {
   "cell_type": "code",
   "execution_count": 36,
   "metadata": {},
   "outputs": [
    {
     "name": "stdout",
     "output_type": "stream",
     "text": [
      "Red,Black\n"
     ]
    }
   ],
   "source": [
    "print(col[0],end=',')\n",
    "print(col[-1])"
   ]
  },
  {
   "cell_type": "code",
   "execution_count": 37,
   "metadata": {},
   "outputs": [
    {
     "name": "stdout",
     "output_type": "stream",
     "text": [
      "put the number5\n",
      "615\n"
     ]
    }
   ],
   "source": [
    "a=input('put the number')\n",
    "s=int(a)+int(a*2)+int(a*3)\n",
    "print(s)"
   ]
  },
  {
   "cell_type": "code",
   "execution_count": 26,
   "metadata": {},
   "outputs": [
    {
     "name": "stdout",
     "output_type": "stream",
     "text": [
      "put number of colors4\n",
      "color namered\n",
      "color nameblack\n",
      "color namegreen\n",
      "color nameblue\n",
      "['red', 'black', 'green', 'blue']\n",
      "['red', 'blue']\n"
     ]
    }
   ],
   "source": [
    "nc=input('put number of colors')\n",
    "lc=[]\n",
    "for i in range(int(nc)):\n",
    "    a=input('color name')\n",
    "    lc.append(a)\n",
    "print(lc)\n",
    "print([lc[0],lc[-1]])"
   ]
  },
  {
   "cell_type": "code",
   "execution_count": 3,
   "metadata": {},
   "outputs": [
    {
     "name": "stdout",
     "output_type": "stream",
     "text": [
      "put coma seperated binary number of 4 digits.0101,0011,1010,1110\n",
      "1010,1110,"
     ]
    }
   ],
   "source": [
    "a=input(\"put coma seperated binary number of 4 digits.\")\n",
    "b=a.split(',')\n",
    "for i in b:\n",
    "    if int(i)%5==0:\n",
    "        print(i,end=',')\n",
    "        "
   ]
  },
  {
   "cell_type": "code",
   "execution_count": 5,
   "metadata": {},
   "outputs": [
    {
     "data": {
      "text/plain": [
       "['r', 'a', 'm', 'e', 'n', '1', '2', '3']"
      ]
     },
     "execution_count": 5,
     "metadata": {},
     "output_type": "execute_result"
    }
   ],
   "source": [
    "word='ramen123'\n",
    "l1=list(word)\n",
    "l1"
   ]
  },
  {
   "cell_type": "code",
   "execution_count": 13,
   "metadata": {},
   "outputs": [
    {
     "data": {
      "text/plain": [
       "[1, 2, 3, 4, 5, 6, 7, 8, 9, 10, 11]"
      ]
     },
     "execution_count": 13,
     "metadata": {},
     "output_type": "execute_result"
    }
   ],
   "source": [
    "#generate a list  having 1 to 20 numbers\n",
    "l1=[]\n",
    "for i in range(1,12):\n",
    "    l1.append(i)\n",
    "l1"
   ]
  },
  {
   "cell_type": "code",
   "execution_count": 3,
   "metadata": {},
   "outputs": [
    {
     "name": "stdout",
     "output_type": "stream",
     "text": [
      "count of even number = 3 and count of odd number = 4\n"
     ]
    }
   ],
   "source": [
    "## Now counting even and odd in above list\n",
    "l1=[2,7,8,9,0,13,25]\n",
    "c_even=0\n",
    "c_odd=0\n",
    "for i in l1:\n",
    "    if i%2==0:\n",
    "        c_even+=1\n",
    "    else:\n",
    "        c_odd+=1\n",
    "print('count of even number = %d and count of odd number = %d' %(c_even, c_odd))    "
   ]
  },
  {
   "cell_type": "code",
   "execution_count": 16,
   "metadata": {
    "collapsed": true
   },
   "outputs": [
    {
     "name": "stdout",
     "output_type": "stream",
     "text": [
      "1\n",
      "Fizz\n",
      "Buzz\n",
      "62\n",
      "FizzBuzz\n",
      "FizzBuzz\n",
      "FizzBuzz\n",
      "Fizz\n",
      "8\n",
      "Fizz\n",
      "13\n",
      "11\n"
     ]
    }
   ],
   "source": [
    "l1=[1,3,5,62,15,75,45,6,8,9,13,11]\n",
    "for i in l1:\n",
    "    if (i%3==0) and (i%5==0):\n",
    "        print('FizzBuzz')\n",
    "    elif(i%3==0):\n",
    "        print('Fizz')\n",
    "    elif(i%5==0):\n",
    "        print('Buzz')\n",
    "    else:\n",
    "        print(i)"
   ]
  },
  {
   "cell_type": "code",
   "execution_count": 20,
   "metadata": {
    "collapsed": true
   },
   "outputs": [
    {
     "data": {
      "text/plain": [
       "[2,\n",
       " 3,\n",
       " 4,\n",
       " 5,\n",
       " 6,\n",
       " 7,\n",
       " 8,\n",
       " 9,\n",
       " 10,\n",
       " 11,\n",
       " 12,\n",
       " 13,\n",
       " 14,\n",
       " 15,\n",
       " 16,\n",
       " 17,\n",
       " 18,\n",
       " 19,\n",
       " 20,\n",
       " 21,\n",
       " 22,\n",
       " 23,\n",
       " 24,\n",
       " 25,\n",
       " 26,\n",
       " 27,\n",
       " 28,\n",
       " 29,\n",
       " 30,\n",
       " 31,\n",
       " 32,\n",
       " 33,\n",
       " 34,\n",
       " 35,\n",
       " 36,\n",
       " 37,\n",
       " 38,\n",
       " 39,\n",
       " 40,\n",
       " 41,\n",
       " 42,\n",
       " 43,\n",
       " 44,\n",
       " 45,\n",
       " 46,\n",
       " 47,\n",
       " 48,\n",
       " 49,\n",
       " 50,\n",
       " 51,\n",
       " 52,\n",
       " 53,\n",
       " 54,\n",
       " 55,\n",
       " 56,\n",
       " 57,\n",
       " 58,\n",
       " 59,\n",
       " 60,\n",
       " 61,\n",
       " 62,\n",
       " 63,\n",
       " 64,\n",
       " 65,\n",
       " 66,\n",
       " 67,\n",
       " 68,\n",
       " 69,\n",
       " 70,\n",
       " 71,\n",
       " 72,\n",
       " 73,\n",
       " 74,\n",
       " 75,\n",
       " 76,\n",
       " 77,\n",
       " 78,\n",
       " 79,\n",
       " 80,\n",
       " 81,\n",
       " 82,\n",
       " 83,\n",
       " 84,\n",
       " 85,\n",
       " 86,\n",
       " 87,\n",
       " 88,\n",
       " 89,\n",
       " 90,\n",
       " 91,\n",
       " 92,\n",
       " 93,\n",
       " 94,\n",
       " 95,\n",
       " 96,\n",
       " 97,\n",
       " 98,\n",
       " 99,\n",
       " 100]"
      ]
     },
     "execution_count": 20,
     "metadata": {},
     "output_type": "execute_result"
    }
   ],
   "source": [
    "# making list of 1 to 100\n",
    "list1=list(range(2,101))\n",
    "list1"
   ]
  },
  {
   "cell_type": "code",
   "execution_count": 21,
   "metadata": {
    "collapsed": true
   },
   "outputs": [
    {
     "name": "stdout",
     "output_type": "stream",
     "text": [
      "11\n",
      "13\n",
      "17\n",
      "19\n",
      "23\n",
      "29\n",
      "31\n",
      "37\n",
      "41\n",
      "43\n",
      "47\n",
      "53\n",
      "59\n",
      "61\n",
      "67\n",
      "71\n",
      "73\n",
      "79\n",
      "83\n",
      "89\n",
      "97\n"
     ]
    }
   ],
   "source": [
    "for i in list1:\n",
    "    if (i%2)and(i%3)and(i%5)and(i%7):\n",
    "        print(i)\n",
    "        "
   ]
  },
  {
   "cell_type": "code",
   "execution_count": 24,
   "metadata": {},
   "outputs": [
    {
     "name": "stdout",
     "output_type": "stream",
     "text": [
      "Plese enter alphanumeric stringRamen.123\n",
      "Ccount of alphabetical charater = 5 and count of digit = 3\n"
     ]
    }
   ],
   "source": [
    "str1=input('Plese enter alphanumeric string')\n",
    "list1=list(str1)\n",
    "c_d=0\n",
    "c_a=0\n",
    "for i in list1:\n",
    "    if i.isalpha():\n",
    "        c_a+=1\n",
    "    elif i.isdecimal():\n",
    "        c_d+=1\n",
    "print('Count of alphabetical charater = %d and count of digit = %d' %(c_a,c_d) )"
   ]
  },
  {
   "cell_type": "code",
   "execution_count": 22,
   "metadata": {},
   "outputs": [
    {
     "data": {
      "text/plain": [
       "['R', 'a', 'm', 'e', 'n', '.', '1', '2', '3']"
      ]
     },
     "execution_count": 22,
     "metadata": {},
     "output_type": "execute_result"
    }
   ],
   "source": [
    "ss='Ramen.123'\n",
    "ll=list(ss)\n",
    "ll"
   ]
  },
  {
   "cell_type": "code",
   "execution_count": 2,
   "metadata": {},
   "outputs": [
    {
     "name": "stdout",
     "output_type": "stream",
     "text": [
      "retratser"
     ]
    }
   ],
   "source": [
    "##reversing a string\n",
    "str1='restarter'\n",
    "n=len(str1)\n",
    "for i in range(-1,-(n+1),-1):\n",
    "    print(str1[i],end='')\n",
    "    "
   ]
  },
  {
   "cell_type": "code",
   "execution_count": 24,
   "metadata": {},
   "outputs": [
    {
     "name": "stdout",
     "output_type": "stream",
     "text": [
      "retratser"
     ]
    }
   ],
   "source": [
    "## a second approach to reversing string\n",
    "str1='restarter'\n",
    "n=len(str1)\n",
    "for i in range(n-1,-1,-1):\n",
    "    print(str1[i],end='')\n",
    "    "
   ]
  },
  {
   "cell_type": "code",
   "execution_count": 26,
   "metadata": {},
   "outputs": [
    {
     "data": {
      "text/plain": [
       "'retratser'"
      ]
     },
     "execution_count": 26,
     "metadata": {},
     "output_type": "execute_result"
    }
   ],
   "source": [
    "str1='restarter'\n",
    "str1[::-1]"
   ]
  },
  {
   "cell_type": "code",
   "execution_count": 20,
   "metadata": {},
   "outputs": [
    {
     "data": {
      "text/plain": [
       "'resta$te$'"
      ]
     },
     "execution_count": 20,
     "metadata": {},
     "output_type": "execute_result"
    }
   ],
   "source": [
    "## changing the 'r' with '$' in a string except 'r' at first position \n",
    "str1='restarter'\n",
    "st=list(str1)\n",
    "a=len(st)\n",
    "for i in range(1,a):\n",
    "    if st[i]=='r':\n",
    "        st[i]='$'\n",
    "st=''.join(st)       \n",
    "st"
   ]
  },
  {
   "cell_type": "code",
   "execution_count": 22,
   "metadata": {},
   "outputs": [
    {
     "data": {
      "text/plain": [
       "'resta$te$'"
      ]
     },
     "execution_count": 22,
     "metadata": {},
     "output_type": "execute_result"
    }
   ],
   "source": [
    "str1='restarter'\n",
    "str1[0]+str1[1:].replace('r','$') ## Using Replace command"
   ]
  },
  {
   "cell_type": "code",
   "execution_count": 28,
   "metadata": {},
   "outputs": [
    {
     "name": "stdout",
     "output_type": "stream",
     "text": [
      "total number of r in given string =  3\n"
     ]
    }
   ],
   "source": [
    "##counting 'r' in string :> 'restarter'\n",
    "str1='restarter'\n",
    "sm=0\n",
    "for i in str1:\n",
    "    if i=='r':\n",
    "        sm=sm+1\n",
    "print('total number of r in given string = ', sm)\n"
   ]
  },
  {
   "cell_type": "code",
   "execution_count": 32,
   "metadata": {},
   "outputs": [],
   "source": [
    "## calculate mode from a given list l1\n",
    "l1=[1,2,3,2,3,3,4,5]\n",
    "l_c=len(l1)\n",
    "unique=list(set(l1))\n",
    "u_c=len(a)\n",
    "for i in range()"
   ]
  },
  {
   "cell_type": "code",
   "execution_count": 33,
   "metadata": {},
   "outputs": [
    {
     "data": {
      "text/plain": [
       "{1, 2, 3, 4, 5}"
      ]
     },
     "execution_count": 33,
     "metadata": {},
     "output_type": "execute_result"
    }
   ],
   "source": [
    "a"
   ]
  },
  {
   "cell_type": "code",
   "execution_count": 31,
   "metadata": {},
   "outputs": [
    {
     "data": {
      "text/plain": [
       "[1, 2, 3, 4, 5]"
      ]
     },
     "execution_count": 31,
     "metadata": {},
     "output_type": "execute_result"
    }
   ],
   "source": [
    "list(a)"
   ]
  },
  {
   "cell_type": "code",
   "execution_count": 5,
   "metadata": {
    "collapsed": true
   },
   "outputs": [
    {
     "name": "stdout",
     "output_type": "stream",
     "text": [
      "*  \n",
      "*  *  \n",
      "*  *  *  \n",
      "*  *  *  *  \n",
      "*  *  *  *  *  \n",
      "*  *  *  *  *  *  \n",
      "*  *  *  *  *  \n",
      "*  *  *  *  \n",
      "*  *  *  \n",
      "*  *  \n",
      "*  \n"
     ]
    }
   ],
   "source": [
    "## Printing star pattern\n",
    "n=12\n",
    "for i in range(1,n):\n",
    "    if i<=n/2:\n",
    "        print('*  '*i)\n",
    "    else:\n",
    "        print('*  '*(n-i))"
   ]
  },
  {
   "cell_type": "code",
   "execution_count": 1,
   "metadata": {},
   "outputs": [],
   "source": [
    "##Write a Python function to find the maximum and minimum numbers from a sequence of numbers.\n",
    "##Note: Do not use built-in functions.\n",
    "##Not working\n",
    "\n",
    "l1=[-1,-5,4,3,1,2,7]\n",
    "n=len(l1)\n",
    "for i in range(n-1):\n",
    "    a=l1[i]\n",
    "    b=l1[i+1]\n",
    "    if a>b:\n",
    "        c=a\n",
    "        a=b\n",
    "        b=c\n",
    "        l1[i]=a\n",
    "        l1[i+1]=b"
   ]
  },
  {
   "cell_type": "code",
   "execution_count": 2,
   "metadata": {},
   "outputs": [
    {
     "data": {
      "text/plain": [
       "[-5, -1, 3, 1, 2, 4, 7]"
      ]
     },
     "execution_count": 2,
     "metadata": {},
     "output_type": "execute_result"
    }
   ],
   "source": [
    "l1"
   ]
  },
  {
   "cell_type": "code",
   "execution_count": 63,
   "metadata": {},
   "outputs": [
    {
     "name": "stdout",
     "output_type": "stream",
     "text": [
      "[(1, 5), (1, 3), (1, 9), (1, 7), (1, 13), (5, 3), (5, 9), (5, 7), (5, 13), (3, 9), (3, 7), (3, 13), (9, 7), (9, 13), (7, 13)]\n"
     ]
    }
   ],
   "source": [
    "###Write a Python function to find a distinct pair\n",
    "#of numbers whose product is odd from a sequence of integer values. \n",
    "l1=[1,2,5,3,2,4,6,9,7,8,12,13]  ##Given list\n",
    "n=len(l1)\n",
    "final_l=[]\n",
    "for i in range(n):\n",
    "    a=l1[i]\n",
    "    l=[a]\n",
    "    if i<n-1:\n",
    "        for j in  range(i+1,n):\n",
    "            if(a*l1[j])%2!=0:\n",
    "                l.append(l1[j])\n",
    "        if len(l)>=2:\n",
    "            for i in range(1,len(l)):\n",
    "                m1=l[0]\n",
    "                m2=l[i]\n",
    "                final_l.append(tuple([m1,m2]))\n",
    "                \n",
    "print(final_l)"
   ]
  },
  {
   "cell_type": "code",
   "execution_count": 64,
   "metadata": {},
   "outputs": [
    {
     "data": {
      "text/plain": [
       "(2, 3)"
      ]
     },
     "execution_count": 64,
     "metadata": {},
     "output_type": "execute_result"
    }
   ],
   "source": [
    "a=tuple([2,3])\n",
    "a"
   ]
  },
  {
   "cell_type": "code",
   "execution_count": 1,
   "metadata": {},
   "outputs": [
    {
     "data": {
      "text/plain": [
       "[-5, -1, 0, 10, 15, 17, 28, 40, 42, 75]"
      ]
     },
     "execution_count": 1,
     "metadata": {},
     "output_type": "execute_result"
    }
   ],
   "source": [
    "### Code for sorting a list, Extend it to find min and max\n",
    "data=[0, 10, 15,-1, 40, -5, 42, 17, 28, 75]\n",
    "n=len(data)\n",
    "l=[]\n",
    "while len(l)<n:\n",
    "    s = data[0]\n",
    "    for num in data:\n",
    "        if num< s:\n",
    "            s = num\n",
    "    data.remove(s)        \n",
    "    l.append(s)\n",
    "l"
   ]
  },
  {
   "cell_type": "code",
   "execution_count": 66,
   "metadata": {},
   "outputs": [
    {
     "data": {
      "text/plain": [
       "1"
      ]
     },
     "execution_count": 66,
     "metadata": {},
     "output_type": "execute_result"
    }
   ],
   "source": [
    "int(True)"
   ]
  },
  {
   "cell_type": "code",
   "execution_count": 67,
   "metadata": {},
   "outputs": [
    {
     "data": {
      "text/plain": [
       "0"
      ]
     },
     "execution_count": 67,
     "metadata": {},
     "output_type": "execute_result"
    }
   ],
   "source": [
    "int(False)"
   ]
  },
  {
   "cell_type": "code",
   "execution_count": 72,
   "metadata": {},
   "outputs": [
    {
     "name": "stdout",
     "output_type": "stream",
     "text": [
      "Input the value of x & y\n",
      "2,4\n",
      "The value of x & y are:  2 4\n"
     ]
    }
   ],
   "source": [
    "##Write a python program to take two input in a single line with coma seperation\n",
    "print(\"Input the value of x & y with coma seperation\")\n",
    "x, y = map(int, input().split(','))\n",
    "print(\"The value of x & y are: \",x,y)"
   ]
  },
  {
   "cell_type": "code",
   "execution_count": 75,
   "metadata": {},
   "outputs": [
    {
     "data": {
      "text/plain": [
       "6"
      ]
     },
     "execution_count": 75,
     "metadata": {},
     "output_type": "execute_result"
    }
   ],
   "source": [
    "x+y"
   ]
  },
  {
   "cell_type": "code",
   "execution_count": 3,
   "metadata": {},
   "outputs": [],
   "source": [
    "def pow(x,n):\n",
    "    result=x**n\n",
    "    return result"
   ]
  },
  {
   "cell_type": "code",
   "execution_count": 4,
   "metadata": {},
   "outputs": [
    {
     "data": {
      "text/plain": [
       "0.0625"
      ]
     },
     "execution_count": 4,
     "metadata": {},
     "output_type": "execute_result"
    }
   ],
   "source": [
    "pow(4,-2)"
   ]
  },
  {
   "cell_type": "code",
   "execution_count": 2,
   "metadata": {},
   "outputs": [
    {
     "data": {
      "text/plain": [
       "0.25"
      ]
     },
     "execution_count": 2,
     "metadata": {},
     "output_type": "execute_result"
    }
   ],
   "source": [
    "4**(-1)"
   ]
  },
  {
   "cell_type": "code",
   "execution_count": 9,
   "metadata": {},
   "outputs": [
    {
     "data": {
      "text/plain": [
       "['player.', 'good', 'is', 'Adam']"
      ]
     },
     "execution_count": 9,
     "metadata": {},
     "output_type": "execute_result"
    }
   ],
   "source": [
    "## reversing a sentence word by word\n",
    "se='Adam is good player.'\n",
    "l1=se.split()\n",
    "l1\n",
    "l1.reverse()\n",
    "l1"
   ]
  },
  {
   "cell_type": "code",
   "execution_count": 11,
   "metadata": {},
   "outputs": [
    {
     "data": {
      "text/plain": [
       "'player. good is Adam'"
      ]
     },
     "execution_count": 11,
     "metadata": {},
     "output_type": "execute_result"
    }
   ],
   "source": [
    "' '.join(l1)"
   ]
  },
  {
   "cell_type": "code",
   "execution_count": 15,
   "metadata": {},
   "outputs": [
    {
     "name": "stdout",
     "output_type": "stream",
     "text": [
      "-10\n"
     ]
    }
   ],
   "source": [
    "## Finding Minimum from a list\n",
    "list1=[25,-10,7,-3,-2,4,8,10]\n",
    "len(list1)\n",
    "a=list1[0]\n",
    "for i in range(len(list1)):\n",
    "    if a>list1[i]:\n",
    "        a=list1[i]\n",
    "print(a)\n",
    "    "
   ]
  },
  {
   "cell_type": "code",
   "execution_count": 2,
   "metadata": {},
   "outputs": [
    {
     "name": "stdout",
     "output_type": "stream",
     "text": [
      "-10\n"
     ]
    }
   ],
   "source": [
    "list1=[25,-10,7,-3,-2,4,8,10]\n",
    "n=len(list1)\n",
    "a=list1[0]\n",
    "for i in list1:\n",
    "    if a>i:\n",
    "        a=i\n",
    "print(a)"
   ]
  },
  {
   "cell_type": "code",
   "execution_count": 1,
   "metadata": {},
   "outputs": [
    {
     "name": "stdout",
     "output_type": "stream",
     "text": [
      "[-10, -3, -2, 4, 7, 8, 10, 25]\n"
     ]
    }
   ],
   "source": [
    "list1=[25,-10,7,-3,-2,4,8,10]\n",
    "n=len(list1)\n",
    "sorted_l=[]\n",
    "while len(sorted_l)<n:\n",
    "    a=list1[0]\n",
    "    for i in list1:\n",
    "        if a>i:\n",
    "            a=i\n",
    "    sorted_l.append(a)\n",
    "    list1.remove(a)\n",
    "print(sorted_l)"
   ]
  },
  {
   "cell_type": "code",
   "execution_count": 14,
   "metadata": {},
   "outputs": [
    {
     "data": {
      "text/plain": [
       "8"
      ]
     },
     "execution_count": 14,
     "metadata": {},
     "output_type": "execute_result"
    }
   ],
   "source": [
    "len(list1)"
   ]
  },
  {
   "cell_type": "code",
   "execution_count": 51,
   "metadata": {},
   "outputs": [
    {
     "data": {
      "text/plain": [
       "[[], [4, 5, 6], [4], [4, 5], [4, 6], [5], [5, 6], [6]]"
      ]
     },
     "execution_count": 51,
     "metadata": {},
     "output_type": "execute_result"
    }
   ],
   "source": [
    "## finding possible set list  from a given list \n",
    "list1=[4,5,6]\n",
    "n=len(list1)\n",
    "l=[[],list1]\n",
    "for i in range(n):\n",
    "    l.append(list((list1[i],)))\n",
    "    for j in range(i+1,n):\n",
    "        a=list((list1[i],list1[j]))\n",
    "        l.append(a)\n",
    "    \n",
    "l    "
   ]
  },
  {
   "cell_type": "code",
   "execution_count": 61,
   "metadata": {},
   "outputs": [
    {
     "data": {
      "text/plain": [
       "[1, 2, 3, 4]"
      ]
     },
     "execution_count": 61,
     "metadata": {},
     "output_type": "execute_result"
    }
   ],
   "source": [
    "lll=[1,2,3]\n",
    "lll.append(4)\n",
    "lll"
   ]
  },
  {
   "cell_type": "code",
   "execution_count": 14,
   "metadata": {},
   "outputs": [
    {
     "data": {
      "text/plain": [
       "28"
      ]
     },
     "execution_count": 14,
     "metadata": {},
     "output_type": "execute_result"
    }
   ],
   "source": [
    "len(l)"
   ]
  },
  {
   "cell_type": "code",
   "execution_count": 8,
   "metadata": {},
   "outputs": [
    {
     "data": {
      "text/plain": [
       "[-7, -3, 2, 4, 8, 10]"
      ]
     },
     "execution_count": 8,
     "metadata": {},
     "output_type": "execute_result"
    }
   ],
   "source": [
    "list1.remove(l[0][0])\n",
    "list1.remove(l[0][1])\n",
    "list1"
   ]
  },
  {
   "cell_type": "code",
   "execution_count": 5,
   "metadata": {},
   "outputs": [
    {
     "name": "stdout",
     "output_type": "stream",
     "text": [
      "0.2\n",
      "0.25\n",
      "0.3333333333333333\n",
      "0.5\n",
      "sum = 1.2833333333333332\n"
     ]
    }
   ],
   "source": [
    "## Generating (1/5,1/4,1/3,1/2) ans finding sum\n",
    "n=5\n",
    "sm=0\n",
    "while n>1:\n",
    "    print(1/n)\n",
    "    sm+=(1/n)\n",
    "    n=n-1\n",
    "\n",
    "    \n",
    "print('sum =',sm)"
   ]
  },
  {
   "cell_type": "code",
   "execution_count": 7,
   "metadata": {
    "collapsed": true
   },
   "outputs": [
    {
     "name": "stdout",
     "output_type": "stream",
     "text": [
      "0\n",
      "1\n",
      "2\n",
      "3\n",
      "4\n",
      "6\n",
      "7\n",
      "8\n",
      "9\n"
     ]
    }
   ],
   "source": [
    "for i in range(10):\n",
    "    if i==5:\n",
    "        continue\n",
    "    print(i)"
   ]
  },
  {
   "cell_type": "code",
   "execution_count": 14,
   "metadata": {},
   "outputs": [],
   "source": [
    "# factoril function (void type without return)\n",
    "def fact_cal(n):\n",
    "    fact=1\n",
    "    while n>0:\n",
    "        fact=fact*n\n",
    "        n=n-1\n",
    "    print(fact)"
   ]
  },
  {
   "cell_type": "code",
   "execution_count": 18,
   "metadata": {},
   "outputs": [
    {
     "name": "stdout",
     "output_type": "stream",
     "text": [
      "24\n"
     ]
    },
    {
     "data": {
      "text/plain": [
       "NoneType"
      ]
     },
     "execution_count": 18,
     "metadata": {},
     "output_type": "execute_result"
    }
   ],
   "source": [
    "type(fact_cal(4))"
   ]
  },
  {
   "cell_type": "code",
   "execution_count": 17,
   "metadata": {},
   "outputs": [],
   "source": [
    "a"
   ]
  },
  {
   "cell_type": "code",
   "execution_count": 19,
   "metadata": {},
   "outputs": [
    {
     "name": "stdout",
     "output_type": "stream",
     "text": [
      "120\n",
      "6\n",
      "2\n"
     ]
    }
   ],
   "source": [
    "a=fact_cal(5)\n",
    "b=fact_cal(5-2)\n",
    "c=fact_cal(2)"
   ]
  },
  {
   "cell_type": "code",
   "execution_count": 20,
   "metadata": {},
   "outputs": [
    {
     "ename": "TypeError",
     "evalue": "unsupported operand type(s) for *: 'NoneType' and 'NoneType'",
     "output_type": "error",
     "traceback": [
      "\u001b[1;31m---------------------------------------------------------------------------\u001b[0m",
      "\u001b[1;31mTypeError\u001b[0m                                 Traceback (most recent call last)",
      "\u001b[1;32m<ipython-input-20-458e3547fea4>\u001b[0m in \u001b[0;36m<module>\u001b[1;34m\u001b[0m\n\u001b[1;32m----> 1\u001b[1;33m \u001b[0mans\u001b[0m\u001b[1;33m=\u001b[0m\u001b[0ma\u001b[0m\u001b[1;33m/\u001b[0m\u001b[1;33m(\u001b[0m\u001b[0mb\u001b[0m\u001b[1;33m*\u001b[0m\u001b[0mc\u001b[0m\u001b[1;33m)\u001b[0m\u001b[1;33m\u001b[0m\u001b[1;33m\u001b[0m\u001b[0m\n\u001b[0m\u001b[0;32m      2\u001b[0m \u001b[0mans\u001b[0m\u001b[1;33m\u001b[0m\u001b[1;33m\u001b[0m\u001b[0m\n",
      "\u001b[1;31mTypeError\u001b[0m: unsupported operand type(s) for *: 'NoneType' and 'NoneType'"
     ]
    }
   ],
   "source": [
    "ans=a/(b*c)\n",
    "ans"
   ]
  },
  {
   "cell_type": "code",
   "execution_count": 1,
   "metadata": {},
   "outputs": [
    {
     "name": "stdout",
     "output_type": "stream",
     "text": [
      "count of even is 5 and count of odd is 3\n"
     ]
    }
   ],
   "source": [
    "## Count even and odd number in a given list\n",
    "list1=[2,3,4,5,6,78,9,10]\n",
    "c_odd=0\n",
    "c_even=0\n",
    "for i in list1:\n",
    "    if i%2==0:\n",
    "        c_even=c_even+1   # c_even+=1\n",
    "    else:\n",
    "        c_odd=c_odd+1\n",
    "\n",
    "print('count of even is %d and count of odd is %d'%(c_even,c_odd))    "
   ]
  },
  {
   "cell_type": "code",
   "execution_count": 1,
   "metadata": {},
   "outputs": [],
   "source": [
    "## Write python program to make a new list from a given list which contain all the words with length greater than 3\n",
    "l1=['bird','cat','sugar','ball','apple','map']\n",
    "l2=[]\n",
    "for i in l1:\n",
    "    if len(i)>3:\n",
    "        l2.append(i)\n",
    "        "
   ]
  },
  {
   "cell_type": "code",
   "execution_count": 2,
   "metadata": {},
   "outputs": [
    {
     "data": {
      "text/plain": [
       "['bird', 'sugar', 'ball', 'apple']"
      ]
     },
     "execution_count": 2,
     "metadata": {},
     "output_type": "execute_result"
    }
   ],
   "source": [
    "l2"
   ]
  },
  {
   "cell_type": "code",
   "execution_count": 12,
   "metadata": {},
   "outputs": [],
   "source": [
    "# Write a Python function that takes two lists and returns True \n",
    "##if they have at least one common member.\n",
    "\n",
    "def list_common(l1,l2):\n",
    "    l3=[]\n",
    "    for i in l1:\n",
    "        for j in l2:\n",
    "            if i==j:\n",
    "                l3.append(i)\n",
    "    return l3"
   ]
  },
  {
   "cell_type": "code",
   "execution_count": 14,
   "metadata": {},
   "outputs": [
    {
     "data": {
      "text/plain": [
       "[2, 6, 6, 8, 9]"
      ]
     },
     "execution_count": 14,
     "metadata": {},
     "output_type": "execute_result"
    }
   ],
   "source": [
    "l1=[1,2,3,4,5,6,6,8,9]\n",
    "l2=[6,2,7,8,9,]\n",
    "list_common(l1,l2)"
   ]
  },
  {
   "cell_type": "code",
   "execution_count": 15,
   "metadata": {},
   "outputs": [
    {
     "name": "stdout",
     "output_type": "stream",
     "text": [
      "5\n"
     ]
    }
   ],
   "source": [
    "# Finding index position of any number (6 in this given list)\n",
    "l1=[1,2,3,4,5,6,8,9]\n",
    "for i in range(len(l1)):\n",
    "    if l1[i]==6:\n",
    "        print(i)"
   ]
  },
  {
   "cell_type": "code",
   "execution_count": 1,
   "metadata": {},
   "outputs": [
    {
     "data": {
      "text/plain": [
       "[1, 3, 4, 2, 7]"
      ]
     },
     "execution_count": 1,
     "metadata": {},
     "output_type": "execute_result"
    }
   ],
   "source": [
    "## finding unique values from a given list\n",
    "l1=[1,1,3,4,4,2,2,7]\n",
    "l2=[]\n",
    "for i in l1:\n",
    "    a=i\n",
    "    if a not in l2:\n",
    "        l2.append(a)\n",
    "l2"
   ]
  },
  {
   "cell_type": "markdown",
   "metadata": {},
   "source": [
    "### Calculating Mean,Std.Dev, Median, Mode of a given list"
   ]
  },
  {
   "cell_type": "markdown",
   "metadata": {},
   "source": [
    "#### From statistica library in Python\n",
    "https://docs.python.org/3/library/statistics.html"
   ]
  },
  {
   "cell_type": "code",
   "execution_count": 32,
   "metadata": {},
   "outputs": [
    {
     "data": {
      "text/plain": [
       "[1, 2, 3, 3, 4, 5, 3, 6, 7, 8, 9, 3, 10]"
      ]
     },
     "execution_count": 32,
     "metadata": {},
     "output_type": "execute_result"
    }
   ],
   "source": [
    "list1=[1,2,3,3,4,5,3,6,7,8,9,3,10]\n",
    "list1"
   ]
  },
  {
   "cell_type": "code",
   "execution_count": 33,
   "metadata": {},
   "outputs": [
    {
     "data": {
      "text/plain": [
       "4"
      ]
     },
     "execution_count": 33,
     "metadata": {},
     "output_type": "execute_result"
    }
   ],
   "source": [
    "st.median(list1)"
   ]
  },
  {
   "cell_type": "code",
   "execution_count": 7,
   "metadata": {},
   "outputs": [
    {
     "data": {
      "text/plain": [
       "[1, 2, 3, 3, 3, 3, 4, 5, 6, 7, 8, 9, 10]"
      ]
     },
     "execution_count": 7,
     "metadata": {},
     "output_type": "execute_result"
    }
   ],
   "source": [
    "list1.sort()\n",
    "list1"
   ]
  },
  {
   "cell_type": "code",
   "execution_count": 12,
   "metadata": {},
   "outputs": [
    {
     "name": "stdout",
     "output_type": "stream",
     "text": [
      "Mean: 4.923076923076923\n",
      "std_dev: 2.841992800294026\n"
     ]
    }
   ],
   "source": [
    "## Without using libray\n",
    "##Mean\n",
    "n=len(list1)\n",
    "u=sum(list1)/n\n",
    "print('Mean:',u)\n",
    "##Standard Deviation\n",
    "sm=0\n",
    "for i in list1:\n",
    "    sm=sm+(i-u)**2\n",
    "    \n",
    "std_dev=(sm/(n-1))**(0.5)\n",
    "print('std_dev:',std_dev)"
   ]
  },
  {
   "cell_type": "code",
   "execution_count": 16,
   "metadata": {},
   "outputs": [
    {
     "name": "stdout",
     "output_type": "stream",
     "text": [
      "Median: 4\n"
     ]
    }
   ],
   "source": [
    "\n",
    "## Median\n",
    "n=len(list1)\n",
    "if n%2==0:\n",
    "    a=(n-1)//2\n",
    "    b=a+1\n",
    "    median=(list1[a]+list1[b])*0.5\n",
    "    print('Median:',median)\n",
    "else:\n",
    "    a=((n-1)+1)//2\n",
    "    median=list1[a]\n",
    "    print('Median:',median)"
   ]
  },
  {
   "cell_type": "code",
   "execution_count": 26,
   "metadata": {},
   "outputs": [],
   "source": [
    "## Mode\n",
    "list1=[1,3,4,5,6,3,3,1,2,2,2,6]\n",
    "list2=list(set(list1))\n",
    "count=[]\n",
    "for i in list2:\n",
    "    count.append(list1.count(i))\n",
    "################################    \n",
    "mode=[]  \n",
    "maxm=max(count)\n",
    "for i in range(len(count)):\n",
    "    if count[i]==maxm:\n",
    "        mode.append(list2[i])    \n",
    "#mode    "
   ]
  },
  {
   "cell_type": "code",
   "execution_count": 27,
   "metadata": {},
   "outputs": [
    {
     "data": {
      "text/plain": [
       "[2, 3, 3, 1, 1, 2]"
      ]
     },
     "execution_count": 27,
     "metadata": {},
     "output_type": "execute_result"
    }
   ],
   "source": [
    "count"
   ]
  },
  {
   "cell_type": "code",
   "execution_count": 22,
   "metadata": {},
   "outputs": [
    {
     "data": {
      "text/plain": [
       "[1, 2, 3, 4, 5, 6]"
      ]
     },
     "execution_count": 22,
     "metadata": {},
     "output_type": "execute_result"
    }
   ],
   "source": [
    "list2"
   ]
  },
  {
   "cell_type": "code",
   "execution_count": 28,
   "metadata": {},
   "outputs": [],
   "source": [
    "import statistics as st"
   ]
  },
  {
   "cell_type": "code",
   "execution_count": 30,
   "metadata": {},
   "outputs": [],
   "source": [
    "list4=[1,3,4,5,6,3,3,1,2,2,6]"
   ]
  },
  {
   "cell_type": "code",
   "execution_count": 34,
   "metadata": {},
   "outputs": [],
   "source": [
    "list4.remove(3)"
   ]
  },
  {
   "cell_type": "code",
   "execution_count": 35,
   "metadata": {},
   "outputs": [
    {
     "data": {
      "text/plain": [
       "[1, 4, 5, 6, 3, 3, 1, 2, 2, 6]"
      ]
     },
     "execution_count": 35,
     "metadata": {},
     "output_type": "execute_result"
    }
   ],
   "source": [
    "list4"
   ]
  },
  {
   "cell_type": "code",
   "execution_count": 36,
   "metadata": {},
   "outputs": [
    {
     "data": {
      "text/plain": [
       "1"
      ]
     },
     "execution_count": 36,
     "metadata": {},
     "output_type": "execute_result"
    }
   ],
   "source": [
    "list4.pop(0)"
   ]
  },
  {
   "cell_type": "code",
   "execution_count": 37,
   "metadata": {},
   "outputs": [
    {
     "data": {
      "text/plain": [
       "[4, 5, 6, 3, 3, 1, 2, 2, 6]"
      ]
     },
     "execution_count": 37,
     "metadata": {},
     "output_type": "execute_result"
    }
   ],
   "source": [
    "list4"
   ]
  },
  {
   "cell_type": "code",
   "execution_count": 7,
   "metadata": {},
   "outputs": [],
   "source": [
    "def fact_cal(n):\n",
    "    fact=1\n",
    "    while n>0:\n",
    "        fact=fact*n\n",
    "        n=n-1\n",
    "    return(fact)"
   ]
  },
  {
   "cell_type": "code",
   "execution_count": 9,
   "metadata": {},
   "outputs": [
    {
     "name": "stdout",
     "output_type": "stream",
     "text": [
      "2.7182818284590455\n"
     ]
    }
   ],
   "source": [
    "## finding value of e^x when x=1\n",
    "sm=0\n",
    "for i in range(101):\n",
    "    sm=sm+(1/fact_cal(i))\n",
    "print(sm)   "
   ]
  },
  {
   "cell_type": "code",
   "execution_count": 1,
   "metadata": {},
   "outputs": [
    {
     "name": "stdout",
     "output_type": "stream",
     "text": [
      "FIZZ\n",
      "BUZZ\n",
      "7\n",
      "FiZZBUZZ\n",
      "FIZZ\n",
      "FiZZBUZZ\n"
     ]
    }
   ],
   "source": [
    "list1=[3,10,7,15,24,75]\n",
    "for i in list1:\n",
    "    if i%3==0 and i%5==0:\n",
    "        print('FiZZBUZZ')\n",
    "    elif i%3==0:\n",
    "        print('FIZZ')\n",
    "    elif i%5==0:\n",
    "        print('BUZZ')\n",
    "    else:\n",
    "        print(i)"
   ]
  },
  {
   "cell_type": "markdown",
   "metadata": {},
   "source": [
    "#### BEST OF LUCK!!!"
   ]
  }
 ],
 "metadata": {
  "kernelspec": {
   "display_name": "Python 3",
   "language": "python",
   "name": "python3"
  },
  "language_info": {
   "codemirror_mode": {
    "name": "ipython",
    "version": 3
   },
   "file_extension": ".py",
   "mimetype": "text/x-python",
   "name": "python",
   "nbconvert_exporter": "python",
   "pygments_lexer": "ipython3",
   "version": "3.7.1"
  }
 },
 "nbformat": 4,
 "nbformat_minor": 2
}
