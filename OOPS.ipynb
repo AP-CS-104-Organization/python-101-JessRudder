{
 "cells": [
  {
   "attachments": {
    "types%20of%20code.PNG": {
     "image/png": "[encoded data removed]"
    }
   },
   "cell_type": "markdown",
   "metadata": {},
   "source": [
    "![types%20of%20code.PNG](attachment:types%20of%20code.PNG)"
   ]
  },
  {
   "cell_type": "markdown",
   "metadata": {},
   "source": [
    " ####  Object-oriented programming\n",
    "    It is one of the most effective approaches to writing software."
   ]
  },
  {
   "cell_type": "markdown",
   "metadata": {},
   "source": [
    "### Class Example 1"
   ]
  },
  {
   "cell_type": "code",
   "execution_count": 58,
   "metadata": {},
   "outputs": [],
   "source": [
    "class Car():\n",
    "    def __init__(self, make, model, year):\n",
    "        self.make = make    # Initialize attributes to describe a car.\n",
    "        self.model = model\n",
    "        self.year = year\n",
    "        \n",
    "    def get_descriptive_name(self):# Return a neatly formatted descriptive name.      \n",
    "        long_name = str(self.year) + ' ' + self.make + ' ' + self.model\n",
    "        return long_name.title()"
   ]
  },
  {
   "cell_type": "markdown",
   "metadata": {},
   "source": [
    "A function that’s part of a class is a method.Everything you learned about\n",
    "functions applies to methods as well; the only practical difference for now is\n",
    "the way we’ll call methods. The '_ _init_ _()  '  method is a special method\n",
    "Python runs automatically whenever we create a new instance based on the\n",
    "car class. This method has two leading underscores and two trailing underscores,\n",
    "a convention that helps prevent Python’s default method names\n",
    "from conflicting with your method names."
   ]
  },
  {
   "cell_type": "markdown",
   "metadata": {},
   "source": [
    "We define the '_ _init _ _()' method to have three parameters: self, make,model,\n",
    "and age. The self parameter is required in the method definition, and it\n",
    "must come first before the other parameters. It must be included in the definition\n",
    "because when Python calls this __init__() method later (to create an\n",
    "instance of Car), the method call will automatically pass the self argument.\n",
    "Every method call associated with a class automatically passes self, which\n",
    "is a reference to the instance itself; it gives the individual instance access to\n",
    "the attributes and methods in the class. When we make an instance of Car,\n",
    "Python will call the '_ _init_ _()' method from the Car class. We’ll pass Car()\n",
    "make, model, and year as arguments; self is passed automatically, so we don’t\n",
    "need to pass it. Whenever we want to make an instance from the car class,\n",
    "we’ll provide values for only the last three parameters: make, model, and age."
   ]
  },
  {
   "cell_type": "markdown",
   "metadata": {},
   "source": [
    "The thre variables defined  each having  the prefix self. Any variable\n",
    "prefixed with self is available to every method in the class, and we’ll also be\n",
    "able to access these variables through any instance created from the class.\n",
    "self.make = make takes the value stored in the parameter make and stores it\n",
    "in the variable make, which is then attached to the instance being created.\n",
    "The same process happens with self.model = model. Variables that are accessible\n",
    "through instances like this are called attributes."
   ]
  },
  {
   "cell_type": "code",
   "execution_count": 7,
   "metadata": {},
   "outputs": [],
   "source": [
    "my_car = Car('audi', 'a4', 2016) ## Making an object from a class is called instantiation"
   ]
  },
  {
   "cell_type": "code",
   "execution_count": 8,
   "metadata": {},
   "outputs": [
    {
     "data": {
      "text/plain": [
       "'audi'"
      ]
     },
     "execution_count": 8,
     "metadata": {},
     "output_type": "execute_result"
    }
   ],
   "source": [
    "my_car.make ## Accessing Attributes"
   ]
  },
  {
   "cell_type": "code",
   "execution_count": 9,
   "metadata": {},
   "outputs": [
    {
     "data": {
      "text/plain": [
       "'a4'"
      ]
     },
     "execution_count": 9,
     "metadata": {},
     "output_type": "execute_result"
    }
   ],
   "source": [
    "my_car.model ## Accessing attributes"
   ]
  },
  {
   "cell_type": "code",
   "execution_count": 10,
   "metadata": {},
   "outputs": [
    {
     "data": {
      "text/plain": [
       "2016"
      ]
     },
     "execution_count": 10,
     "metadata": {},
     "output_type": "execute_result"
    }
   ],
   "source": [
    "my_car.year ## Accessing attributes"
   ]
  },
  {
   "cell_type": "code",
   "execution_count": 11,
   "metadata": {},
   "outputs": [
    {
     "data": {
      "text/plain": [
       "'2016 Audi A4'"
      ]
     },
     "execution_count": 11,
     "metadata": {},
     "output_type": "execute_result"
    }
   ],
   "source": [
    "my_car.get_descriptive_name() ##Calling methods"
   ]
  },
  {
   "cell_type": "markdown",
   "metadata": {},
   "source": [
    "### Setting a Default Value for an Attribute"
   ]
  },
  {
   "cell_type": "code",
   "execution_count": 2,
   "metadata": {},
   "outputs": [],
   "source": [
    "class Car():\n",
    "    def __init__(self, make, model, year):\n",
    "        self.make = make                          # Initialize attributes to describe a car.\n",
    "        self.model = model\n",
    "        self.year = year\n",
    "        self.odometer_reading = 0       # Default Value\n",
    "    def get_descriptive_name(self):               # Return a neatly formatted descriptive name.      \n",
    "        long_name = str(self.year) + ' ' + self.make + ' ' + self.model\n",
    "        return long_name.title()\n",
    "    def read_odometer(self):\n",
    "        print(\"This car has \" + str(self.odometer_reading) + \" miles on it.\")"
   ]
  },
  {
   "cell_type": "code",
   "execution_count": 4,
   "metadata": {},
   "outputs": [],
   "source": [
    "mnc = Car('audi', 'a4', 2016)"
   ]
  },
  {
   "cell_type": "code",
   "execution_count": 5,
   "metadata": {},
   "outputs": [
    {
     "data": {
      "text/plain": [
       "'audi'"
      ]
     },
     "execution_count": 5,
     "metadata": {},
     "output_type": "execute_result"
    }
   ],
   "source": [
    "mnc.make"
   ]
  },
  {
   "cell_type": "code",
   "execution_count": 9,
   "metadata": {},
   "outputs": [
    {
     "data": {
      "text/plain": [
       "0"
      ]
     },
     "execution_count": 9,
     "metadata": {},
     "output_type": "execute_result"
    }
   ],
   "source": [
    "mnc.odometer_reading"
   ]
  },
  {
   "cell_type": "code",
   "execution_count": 8,
   "metadata": {},
   "outputs": [
    {
     "name": "stdout",
     "output_type": "stream",
     "text": [
      "This car has 0 miles on it.\n"
     ]
    }
   ],
   "source": [
    "mnc.read_odometer()"
   ]
  },
  {
   "cell_type": "markdown",
   "metadata": {},
   "source": [
    "#### Modifying Attribute Values\n",
    "####  Method 1 "
   ]
  },
  {
   "cell_type": "code",
   "execution_count": 15,
   "metadata": {},
   "outputs": [
    {
     "name": "stdout",
     "output_type": "stream",
     "text": [
      "This car has 67 miles on it.\n"
     ]
    }
   ],
   "source": [
    "my_new_car.odometer_reading = 67 ## Assigning a new value to default attribute\n",
    "my_new_car.read_odometer()"
   ]
  },
  {
   "cell_type": "markdown",
   "metadata": {},
   "source": [
    "#### Method 2"
   ]
  },
  {
   "cell_type": "code",
   "execution_count": 10,
   "metadata": {},
   "outputs": [],
   "source": [
    "class Car():\n",
    "    def __init__(self, make, model, year):\n",
    "        self.make = make                          # Initialize attributes to describe a car.\n",
    "        self.model = model\n",
    "        self.year = year\n",
    "        self.odometer_reading = 0\n",
    "    def get_descriptive_name(self):               # Return a neatly formatted descriptive name.      \n",
    "        long_name = str(self.year) + ' ' + self.make + ' ' + self.model\n",
    "        return long_name.title()\n",
    "    def read_odometer(self):\n",
    "        print(\"This car has \" + str(self.odometer_reading) + \" miles on it.\")\n",
    "\n",
    "    def update_odometer(self, mileage):  # Set the odometer reading to the given value.\n",
    "        self.odometer_reading = mileage\n",
    "        \n",
    "    def increment_odometer(self, miles):\n",
    "        self.odometer_reading += miles  "
   ]
  },
  {
   "cell_type": "code",
   "execution_count": 11,
   "metadata": {},
   "outputs": [
    {
     "name": "stdout",
     "output_type": "stream",
     "text": [
      "This car has 0 miles on it.\n"
     ]
    }
   ],
   "source": [
    "my_new_car = Car('audi', 'a4', 2016)\n",
    "my_new_car.read_odometer()"
   ]
  },
  {
   "cell_type": "code",
   "execution_count": 17,
   "metadata": {},
   "outputs": [],
   "source": [
    "my_new_car.update_odometer(45)"
   ]
  },
  {
   "cell_type": "code",
   "execution_count": 13,
   "metadata": {},
   "outputs": [
    {
     "name": "stdout",
     "output_type": "stream",
     "text": [
      "This car has 45 miles on it.\n"
     ]
    }
   ],
   "source": [
    "my_new_car.read_odometer()"
   ]
  },
  {
   "cell_type": "code",
   "execution_count": 14,
   "metadata": {},
   "outputs": [],
   "source": [
    "my_new_car.increment_odometer(50)"
   ]
  },
  {
   "cell_type": "code",
   "execution_count": 16,
   "metadata": {},
   "outputs": [
    {
     "name": "stdout",
     "output_type": "stream",
     "text": [
      "This car has 95 miles on it.\n"
     ]
    }
   ],
   "source": [
    "my_new_car.read_odometer()"
   ]
  },
  {
   "cell_type": "markdown",
   "metadata": {},
   "source": [
    "##### Add a little logic to our program in > update odometer section\n",
    "if mileage >= self.odometer_reading:\n",
    "self.odometer_reading = mileage\n",
    "else:\n",
    " print(\"You can't roll back an odometer!\")"
   ]
  },
  {
   "cell_type": "code",
   "execution_count": null,
   "metadata": {},
   "outputs": [],
   "source": []
  },
  {
   "cell_type": "code",
   "execution_count": 29,
   "metadata": {},
   "outputs": [],
   "source": [
    "class Car():\n",
    "    def __init__(self, make, model, year):\n",
    "        self.make = make                          # Initialize attributes to describe a car.\n",
    "        self.model = model\n",
    "        self.year = year\n",
    "        self.odometer_reading = 0\n",
    "    def get_descriptive_name(self):               # Return a neatly formatted descriptive name.      \n",
    "        long_name = str(self.year) + ' ' + self.make + ' ' + self.model\n",
    "        return long_name.title()\n",
    "    def read_odometer(self):\n",
    "        print(\"This car has \" + str(self.odometer_reading) + \" miles on it.\")\n",
    "\n",
    "    def update_odometer(self, mileage): # Set the odometer reading to the given value.\n",
    "        if mileage >= self.odometer_reading:\n",
    "            self.odometer_reading = mileage\n",
    "        else:\n",
    "            print(\"You can't roll back an odometer!\")\n",
    "        \n",
    "    def increment_odometer(self, miles):\n",
    "        if miles>0:\n",
    "            self.odometer_reading += miles  \n",
    "        else:\n",
    "            print(\"Decrement is not allowed.\")"
   ]
  },
  {
   "cell_type": "code",
   "execution_count": 35,
   "metadata": {},
   "outputs": [],
   "source": [
    "mnc=Car('audi','a4',2019)"
   ]
  },
  {
   "cell_type": "code",
   "execution_count": 36,
   "metadata": {},
   "outputs": [
    {
     "name": "stdout",
     "output_type": "stream",
     "text": [
      "This car has 0 miles on it.\n"
     ]
    }
   ],
   "source": [
    "mnc.read_odometer()"
   ]
  },
  {
   "cell_type": "code",
   "execution_count": 37,
   "metadata": {},
   "outputs": [],
   "source": [
    "mnc.update_odometer(45)"
   ]
  },
  {
   "cell_type": "code",
   "execution_count": 38,
   "metadata": {},
   "outputs": [
    {
     "name": "stdout",
     "output_type": "stream",
     "text": [
      "This car has 45 miles on it.\n"
     ]
    }
   ],
   "source": [
    "mnc.read_odometer()"
   ]
  },
  {
   "cell_type": "code",
   "execution_count": 39,
   "metadata": {},
   "outputs": [
    {
     "name": "stdout",
     "output_type": "stream",
     "text": [
      "You can't roll back an odometer!\n"
     ]
    }
   ],
   "source": [
    "mnc.update_odometer(10)"
   ]
  },
  {
   "cell_type": "code",
   "execution_count": 40,
   "metadata": {},
   "outputs": [
    {
     "name": "stdout",
     "output_type": "stream",
     "text": [
      "This car has 45 miles on it.\n"
     ]
    }
   ],
   "source": [
    "mnc.read_odometer()"
   ]
  },
  {
   "cell_type": "code",
   "execution_count": 41,
   "metadata": {},
   "outputs": [
    {
     "name": "stdout",
     "output_type": "stream",
     "text": [
      "Decrement is not allowed.\n"
     ]
    }
   ],
   "source": [
    "mnc.increment_odometer(-20)"
   ]
  },
  {
   "cell_type": "code",
   "execution_count": 42,
   "metadata": {},
   "outputs": [
    {
     "name": "stdout",
     "output_type": "stream",
     "text": [
      "This car has 45 miles on it.\n"
     ]
    }
   ],
   "source": [
    "mnc.read_odometer()"
   ]
  },
  {
   "cell_type": "markdown",
   "metadata": {},
   "source": [
    "## Inheritance"
   ]
  },
  {
   "cell_type": "markdown",
   "metadata": {},
   "source": [
    "You don’t always have to start from scratch when writing a class. If the class\n",
    "you’re writing is a specialized version of another class you wrote, you can\n",
    "use inheritance. When one class inherits from another, it automatically takes\n",
    "on all the attributes and methods of the first class. The original class is\n",
    "called the parent class, and the new class is the child class. The child class\n",
    "inherits every attribute and method from its parent class but is also free to\n",
    "define new attributes and methods of its own."
   ]
  },
  {
   "cell_type": "code",
   "execution_count": 44,
   "metadata": {},
   "outputs": [],
   "source": [
    "class Car():         ### Parent class\n",
    "    def __init__(self, make, model, year):\n",
    "        self.make = make                          # Initialize attributes to describe a car.\n",
    "        self.model = model\n",
    "        self.year = year\n",
    "        self.odometer_reading = 0\n",
    "    def get_descriptive_name(self):               # Return a neatly formatted descriptive name.      \n",
    "        long_name = str(self.year) + ' ' + self.make + ' ' + self.model\n",
    "        return long_name.title()\n",
    "    def read_odometer(self):\n",
    "        print(\"This car has \" + str(self.odometer_reading) + \" miles on it.\")\n",
    "\n",
    "    def update_odometer(self, mileage):  # Set the odometer reading to the given value.\n",
    "        self.odometer_reading = mileage\n",
    "        \n",
    "    def increment_odometer(self, miles):\n",
    "        self.odometer_reading += miles  \n",
    "############## Child class :> ######################   \n",
    "class ElectricCar(Car):\n",
    "    def __init__(self,make,model, year):\n",
    "        super().__init__(make, model, year)  #Initialize attributes of the parent class."
   ]
  },
  {
   "cell_type": "code",
   "execution_count": 45,
   "metadata": {},
   "outputs": [],
   "source": [
    "my_ecl_car=ElectricCar('Tesla','T84',2019)"
   ]
  },
  {
   "cell_type": "code",
   "execution_count": 84,
   "metadata": {},
   "outputs": [
    {
     "data": {
      "text/plain": [
       "'2019 Tesla T84'"
      ]
     },
     "execution_count": 84,
     "metadata": {},
     "output_type": "execute_result"
    }
   ],
   "source": [
    "my_ecl_car.get_descriptive_name()"
   ]
  },
  {
   "cell_type": "code",
   "execution_count": 85,
   "metadata": {},
   "outputs": [
    {
     "name": "stdout",
     "output_type": "stream",
     "text": [
      "This car has 0 miles on it.\n"
     ]
    }
   ],
   "source": [
    "my_ecl_car.read_odometer()"
   ]
  },
  {
   "cell_type": "code",
   "execution_count": 32,
   "metadata": {},
   "outputs": [],
   "source": [
    "my_ecl_car.update_odometer(67)"
   ]
  },
  {
   "cell_type": "code",
   "execution_count": 33,
   "metadata": {},
   "outputs": [
    {
     "name": "stdout",
     "output_type": "stream",
     "text": [
      "This car has 67 miles on it.\n"
     ]
    }
   ],
   "source": [
    "my_ecl_car.read_odometer()"
   ]
  },
  {
   "cell_type": "markdown",
   "metadata": {},
   "source": [
    "#### Defining Attributes and Methods for the Child Class\n",
    "    Once you have a child class that inherits from a parent class, you can add any new attributes and methods necessary to differentiate the child class from the parent class."
   ]
  },
  {
   "cell_type": "code",
   "execution_count": 54,
   "metadata": {},
   "outputs": [],
   "source": [
    "class Car():\n",
    "    def __init__(self, make, model, year):\n",
    "        self.make = make                          # Initialize attributes to describe a car.\n",
    "        self.model = model\n",
    "        self.year = year\n",
    "        self.odometer_reading = 0\n",
    "    def get_descriptive_name(self):               # Return a neatly formatted descriptive name.      \n",
    "        long_name = str(self.year) + ' ' + self.make + ' ' + self.model\n",
    "        return long_name.title()\n",
    "    def read_odometer(self):\n",
    "        print(\"This car has \" + str(self.odometer_reading) + \" miles on it.\")\n",
    "\n",
    "    def update_odometer(self, mileage):  # Set the odometer reading to the given value.\n",
    "        self.odometer_reading = mileage\n",
    "        \n",
    "    def increment_odometer(self, miles):\n",
    "        self.odometer_reading += miles  \n",
    "    def fill_gas(self):\n",
    "        print('You need to fill gas tank.')\n",
    "######################################################################  Child class :>    \n",
    "class ElectricCar(Car):\n",
    "    def __init__(self, make, model, year):\n",
    "        super().__init__(make, model, year)  #Initialize attributes of the parent class.\n",
    "        self.battery_size = 70    ##Defining default attribute of child class\n",
    "    def describe_battery(self,weight): #Defining Method for child class # Print a statement describing the battery size.\n",
    "        print(\"This car has a \" + str(self.battery_size) + \"-kWh battery.\")\n",
    "        print('Battery weights '+str(weight) + ' kg.')\n",
    "    def fill_gas(self): ## Note:concept of over-riding parent method\n",
    "        print(\"Electric car doesn't have a gas tank.\")"
   ]
  },
  {
   "cell_type": "code",
   "execution_count": 55,
   "metadata": {},
   "outputs": [],
   "source": [
    "my_ecl_car=ElectricCar('Tesla','T84',2019)"
   ]
  },
  {
   "cell_type": "code",
   "execution_count": 56,
   "metadata": {},
   "outputs": [
    {
     "name": "stdout",
     "output_type": "stream",
     "text": [
      "This car has a 70-kWh battery.\n",
      "Battery weights 69 kg.\n"
     ]
    }
   ],
   "source": [
    "my_ecl_car.describe_battery(69)"
   ]
  },
  {
   "cell_type": "code",
   "execution_count": 49,
   "metadata": {},
   "outputs": [],
   "source": [
    "my_ecl_car=ElectricCar('Tesla','T84',2019)"
   ]
  },
  {
   "cell_type": "code",
   "execution_count": 52,
   "metadata": {},
   "outputs": [
    {
     "name": "stdout",
     "output_type": "stream",
     "text": [
      "You need to fill gas tank.\n"
     ]
    }
   ],
   "source": [
    "my_ecl_car.fill_gas()"
   ]
  },
  {
   "cell_type": "markdown",
   "metadata": {},
   "source": [
    "### Overriding Methods from the Parent Class\n",
    "You can override any method from the parent class that doesn’t fit what\n",
    "you’re trying to model with the child class. To do this, you define a method\n",
    "in the child class with the same name as the method you want to override\n",
    "in the parent class. Python will disregard the parent class method and only\n",
    "pay attention to the method you define in the child class.\n",
    "Say the class Car had a method called fill_gas_tank(). This method is\n",
    "meaningless for an all-electric vehicle, so you might want to override this\n",
    "method. Here’s one way to do that:"
   ]
  },
  {
   "attachments": {
    "oobs.PNG": {
     "image/png": "[encoded data removed]"
    }
   },
   "cell_type": "markdown",
   "metadata": {},
   "source": [
    "![oobs.PNG](attachment:oobs.PNG)"
   ]
  },
  {
   "cell_type": "markdown",
   "metadata": {},
   "source": [
    "### Instances as Attributes\n",
    "    As we continue adding detail to the ElectricCar class, wemight notice that we’re   adding many attributes and methods specific tothe car’s battery. When we see this happening, we can stop and move those attributes and methods to a separate class called Battery. Then we can use a Battery instance as an attribute in the ElectricCar class:"
   ]
  },
  {
   "cell_type": "code",
   "execution_count": 99,
   "metadata": {},
   "outputs": [],
   "source": [
    "class Car():\n",
    "    def __init__(self, make, model, year):\n",
    "        self.make = make                          # Initialize attributes to describe a car.\n",
    "        self.model = model\n",
    "        self.year = year\n",
    "        self.odometer_reading = 0\n",
    "    def get_descriptive_name(self):               # Return a neatly formatted descriptive name.      \n",
    "        long_name = str(self.year) + ' ' + self.make + ' ' + self.model\n",
    "        return long_name.title()\n",
    "    def read_odometer(self):\n",
    "        print(\"This car has \" + str(self.odometer_reading) + \" miles on it.\")\n",
    "\n",
    "    def update_odometer(self, mileage):  # Set the odometer reading to the given value.\n",
    "        self.odometer_reading = mileage\n",
    "        \n",
    "    def increment_odometer(self, miles):\n",
    "        self.odometer_reading += miles  \n",
    "    def fill_gas(self):\n",
    "        print('You need to fill gas tank.')\n",
    "\n",
    "#############################################################################        \n",
    "class Battery():\n",
    "    def __init__(self,weight,battery_size=70):\n",
    "        self.weight=weight\n",
    "        self.battery_size = battery_size\n",
    "    def describe_battery(self):\n",
    "        print(\"This car has a \" + str(self.battery_size) + \"-kWh battery.\")\n",
    "        print('Battery weights '+str(self.weight) + ' kg.')\n",
    "######################################################################  Child class :>    \n",
    "class ElectricCar(Car):\n",
    "    def __init__(self, make, model, year,bat_weight):\n",
    "        self.bat_weight=bat_weight\n",
    "        super().__init__(make, model, year)  #Initialize attributes of the parent class.\n",
    "        self.battery = Battery(self.bat_weight)    ## add an attribute called self.battery\n",
    "    def fill_gas(self): ## Note:concept of over-riding parent method\n",
    "        print(\"Electric car doesn't have a gas tank.\")        "
   ]
  },
  {
   "cell_type": "code",
   "execution_count": 100,
   "metadata": {},
   "outputs": [
    {
     "name": "stdout",
     "output_type": "stream",
     "text": [
      "2016 Tesla Model S\n"
     ]
    }
   ],
   "source": [
    "my_tesla = ElectricCar('tesla', 'model s', 2016,86)\n",
    "print(my_tesla.get_descriptive_name())"
   ]
  },
  {
   "cell_type": "code",
   "execution_count": 101,
   "metadata": {},
   "outputs": [
    {
     "name": "stdout",
     "output_type": "stream",
     "text": [
      "This car has a 70-kWh battery.\n",
      "Battery weights 86 kg.\n"
     ]
    }
   ],
   "source": [
    "my_tesla.battery.describe_battery()"
   ]
  }
 ],
 "metadata": {
  "kernelspec": {
   "display_name": "Python 3",
   "language": "python",
   "name": "python3"
  },
  "language_info": {
   "codemirror_mode": {
    "name": "ipython",
    "version": 3
   },
   "file_extension": ".py",
   "mimetype": "text/x-python",
   "name": "python",
   "nbconvert_exporter": "python",
   "pygments_lexer": "ipython3",
   "version": "3.7.1"
  }
 },
 "nbformat": 4,
 "nbformat_minor": 2
}
